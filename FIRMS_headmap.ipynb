{
 "cells": [
  {
   "cell_type": "markdown",
   "metadata": {
    "deletable": true,
    "editable": true
   },
   "source": [
    "火災情報のヒートマップ表示\n",
    "=====================\n",
    "\n",
    "NASAが公開している \"火災情報\"(https://firms.modaps.eosdis.nasa.gov/active_fire/c6/text/MODIS_C6_Russia_and_Asia_24h.csv) を読みこみ、ヒートマップで表示してみます。\n",
    "\n",
    "ライブラリの読み込み\n",
    "-----------------\n",
    "pandasは一般的にデータ解析に使用されるライブラリで、一般的にpdと略してimportします。  \n",
    "また、web上からcsvファイルをダウンロードして来て取り込む為、ioおよびrequestsもimportします。\n",
    "\n",
    "すべてのライブラリはdatalabに標準で組み込まれています。"
   ]
  },
  {
   "cell_type": "code",
   "execution_count": 76,
   "metadata": {
    "collapsed": false,
    "deletable": true,
    "editable": true
   },
   "outputs": [],
   "source": [
    "import pandas as pd\n",
    "import io\n",
    "import requests"
   ]
  },
  {
   "cell_type": "markdown",
   "metadata": {
    "deletable": true,
    "editable": true
   },
   "source": [
    "読み込み処理はrequestsを使ってgetし、contentをutf-8にdecodeして、read_csvで読み込みます。  \n",
    "decodeに渡す文字コードはcsvファイルの文字コードにあわせて変更します。\n",
    "\n",
    "decodeの結果はDataFrame型で帰ります。"
   ]
  },
  {
   "cell_type": "code",
   "execution_count": 77,
   "metadata": {
    "collapsed": false,
    "deletable": true,
    "editable": true
   },
   "outputs": [
    {
     "data": {
      "text/plain": [
       "pandas.core.frame.DataFrame"
      ]
     },
     "execution_count": 77,
     "metadata": {},
     "output_type": "execute_result"
    }
   ],
   "source": [
    "url = \"https://firms.modaps.eosdis.nasa.gov/active_fire/c6/text/MODIS_C6_Russia_and_Asia_24h.csv\"\n",
    "modis = pd.read_csv(io.StringIO(requests.get(url).content.decode('utf-8')))\n",
    "\n",
    "type(modis)"
   ]
  },
  {
   "cell_type": "markdown",
   "metadata": {
    "deletable": true,
    "editable": true
   },
   "source": [
    "最初の5行を確認してみます。"
   ]
  },
  {
   "cell_type": "code",
   "execution_count": 78,
   "metadata": {
    "collapsed": false,
    "deletable": true,
    "editable": true
   },
   "outputs": [
    {
     "data": {
      "text/html": [
       "<div>\n",
       "<style scoped>\n",
       "    .dataframe tbody tr th:only-of-type {\n",
       "        vertical-align: middle;\n",
       "    }\n",
       "\n",
       "    .dataframe tbody tr th {\n",
       "        vertical-align: top;\n",
       "    }\n",
       "\n",
       "    .dataframe thead th {\n",
       "        text-align: right;\n",
       "    }\n",
       "</style>\n",
       "<table border=\"1\" class=\"dataframe\">\n",
       "  <thead>\n",
       "    <tr style=\"text-align: right;\">\n",
       "      <th></th>\n",
       "      <th>latitude</th>\n",
       "      <th>longitude</th>\n",
       "      <th>brightness</th>\n",
       "      <th>scan</th>\n",
       "      <th>track</th>\n",
       "      <th>acq_date</th>\n",
       "      <th>acq_time</th>\n",
       "      <th>satellite</th>\n",
       "      <th>confidence</th>\n",
       "      <th>version</th>\n",
       "      <th>bright_t31</th>\n",
       "      <th>frp</th>\n",
       "      <th>daynight</th>\n",
       "    </tr>\n",
       "  </thead>\n",
       "  <tbody>\n",
       "    <tr>\n",
       "      <th>0</th>\n",
       "      <td>25.062</td>\n",
       "      <td>121.629</td>\n",
       "      <td>321.9</td>\n",
       "      <td>1.0</td>\n",
       "      <td>1.0</td>\n",
       "      <td>2018-04-13</td>\n",
       "      <td>245</td>\n",
       "      <td>T</td>\n",
       "      <td>32</td>\n",
       "      <td>6.0NRT</td>\n",
       "      <td>300.5</td>\n",
       "      <td>10.4</td>\n",
       "      <td>D</td>\n",
       "    </tr>\n",
       "    <tr>\n",
       "      <th>1</th>\n",
       "      <td>24.931</td>\n",
       "      <td>121.167</td>\n",
       "      <td>322.1</td>\n",
       "      <td>1.0</td>\n",
       "      <td>1.0</td>\n",
       "      <td>2018-04-13</td>\n",
       "      <td>245</td>\n",
       "      <td>T</td>\n",
       "      <td>56</td>\n",
       "      <td>6.0NRT</td>\n",
       "      <td>300.9</td>\n",
       "      <td>9.9</td>\n",
       "      <td>D</td>\n",
       "    </tr>\n",
       "    <tr>\n",
       "      <th>2</th>\n",
       "      <td>24.191</td>\n",
       "      <td>120.815</td>\n",
       "      <td>317.9</td>\n",
       "      <td>1.0</td>\n",
       "      <td>1.0</td>\n",
       "      <td>2018-04-13</td>\n",
       "      <td>245</td>\n",
       "      <td>T</td>\n",
       "      <td>26</td>\n",
       "      <td>6.0NRT</td>\n",
       "      <td>300.7</td>\n",
       "      <td>8.3</td>\n",
       "      <td>D</td>\n",
       "    </tr>\n",
       "    <tr>\n",
       "      <th>3</th>\n",
       "      <td>23.963</td>\n",
       "      <td>120.974</td>\n",
       "      <td>319.8</td>\n",
       "      <td>1.0</td>\n",
       "      <td>1.0</td>\n",
       "      <td>2018-04-13</td>\n",
       "      <td>245</td>\n",
       "      <td>T</td>\n",
       "      <td>52</td>\n",
       "      <td>6.0NRT</td>\n",
       "      <td>303.0</td>\n",
       "      <td>8.3</td>\n",
       "      <td>D</td>\n",
       "    </tr>\n",
       "    <tr>\n",
       "      <th>4</th>\n",
       "      <td>23.017</td>\n",
       "      <td>120.341</td>\n",
       "      <td>316.7</td>\n",
       "      <td>1.0</td>\n",
       "      <td>1.0</td>\n",
       "      <td>2018-04-13</td>\n",
       "      <td>245</td>\n",
       "      <td>T</td>\n",
       "      <td>30</td>\n",
       "      <td>6.0NRT</td>\n",
       "      <td>297.6</td>\n",
       "      <td>5.1</td>\n",
       "      <td>D</td>\n",
       "    </tr>\n",
       "  </tbody>\n",
       "</table>\n",
       "</div>"
      ],
      "text/plain": [
       "   latitude  longitude  brightness  scan  track    acq_date  acq_time  \\\n",
       "0    25.062    121.629       321.9   1.0    1.0  2018-04-13       245   \n",
       "1    24.931    121.167       322.1   1.0    1.0  2018-04-13       245   \n",
       "2    24.191    120.815       317.9   1.0    1.0  2018-04-13       245   \n",
       "3    23.963    120.974       319.8   1.0    1.0  2018-04-13       245   \n",
       "4    23.017    120.341       316.7   1.0    1.0  2018-04-13       245   \n",
       "\n",
       "  satellite  confidence version  bright_t31   frp daynight  \n",
       "0         T          32  6.0NRT       300.5  10.4        D  \n",
       "1         T          56  6.0NRT       300.9   9.9        D  \n",
       "2         T          26  6.0NRT       300.7   8.3        D  \n",
       "3         T          52  6.0NRT       303.0   8.3        D  \n",
       "4         T          30  6.0NRT       297.6   5.1        D  "
      ]
     },
     "execution_count": 78,
     "metadata": {},
     "output_type": "execute_result"
    }
   ],
   "source": [
    "modis[:5]"
   ]
  },
  {
   "cell_type": "markdown",
   "metadata": {
    "deletable": true,
    "editable": true
   },
   "source": [
    "DataFrame型はlocで部分データを切り取ることが出来ます。行、列の順で切りとる範囲を指定します。"
   ]
  },
  {
   "cell_type": "code",
   "execution_count": 79,
   "metadata": {
    "collapsed": false,
    "deletable": true,
    "editable": true
   },
   "outputs": [
    {
     "data": {
      "text/html": [
       "<div>\n",
       "<style scoped>\n",
       "    .dataframe tbody tr th:only-of-type {\n",
       "        vertical-align: middle;\n",
       "    }\n",
       "\n",
       "    .dataframe tbody tr th {\n",
       "        vertical-align: top;\n",
       "    }\n",
       "\n",
       "    .dataframe thead th {\n",
       "        text-align: right;\n",
       "    }\n",
       "</style>\n",
       "<table border=\"1\" class=\"dataframe\">\n",
       "  <thead>\n",
       "    <tr style=\"text-align: right;\">\n",
       "      <th></th>\n",
       "      <th>lat</th>\n",
       "      <th>lng</th>\n",
       "      <th>weight</th>\n",
       "    </tr>\n",
       "  </thead>\n",
       "  <tbody>\n",
       "    <tr>\n",
       "      <th>0</th>\n",
       "      <td>25.062</td>\n",
       "      <td>121.629</td>\n",
       "      <td>321.9</td>\n",
       "    </tr>\n",
       "    <tr>\n",
       "      <th>1</th>\n",
       "      <td>24.931</td>\n",
       "      <td>121.167</td>\n",
       "      <td>322.1</td>\n",
       "    </tr>\n",
       "    <tr>\n",
       "      <th>2</th>\n",
       "      <td>24.191</td>\n",
       "      <td>120.815</td>\n",
       "      <td>317.9</td>\n",
       "    </tr>\n",
       "    <tr>\n",
       "      <th>3</th>\n",
       "      <td>23.963</td>\n",
       "      <td>120.974</td>\n",
       "      <td>319.8</td>\n",
       "    </tr>\n",
       "    <tr>\n",
       "      <th>4</th>\n",
       "      <td>23.017</td>\n",
       "      <td>120.341</td>\n",
       "      <td>316.7</td>\n",
       "    </tr>\n",
       "    <tr>\n",
       "      <th>5</th>\n",
       "      <td>23.015</td>\n",
       "      <td>120.351</td>\n",
       "      <td>323.0</td>\n",
       "    </tr>\n",
       "    <tr>\n",
       "      <th>6</th>\n",
       "      <td>22.544</td>\n",
       "      <td>120.358</td>\n",
       "      <td>327.2</td>\n",
       "    </tr>\n",
       "    <tr>\n",
       "      <th>7</th>\n",
       "      <td>17.871</td>\n",
       "      <td>121.250</td>\n",
       "      <td>314.2</td>\n",
       "    </tr>\n",
       "    <tr>\n",
       "      <th>8</th>\n",
       "      <td>17.490</td>\n",
       "      <td>121.644</td>\n",
       "      <td>335.0</td>\n",
       "    </tr>\n",
       "    <tr>\n",
       "      <th>9</th>\n",
       "      <td>17.426</td>\n",
       "      <td>121.840</td>\n",
       "      <td>324.5</td>\n",
       "    </tr>\n",
       "    <tr>\n",
       "      <th>10</th>\n",
       "      <td>16.126</td>\n",
       "      <td>121.383</td>\n",
       "      <td>317.0</td>\n",
       "    </tr>\n",
       "  </tbody>\n",
       "</table>\n",
       "</div>"
      ],
      "text/plain": [
       "       lat      lng  weight\n",
       "0   25.062  121.629   321.9\n",
       "1   24.931  121.167   322.1\n",
       "2   24.191  120.815   317.9\n",
       "3   23.963  120.974   319.8\n",
       "4   23.017  120.341   316.7\n",
       "5   23.015  120.351   323.0\n",
       "6   22.544  120.358   327.2\n",
       "7   17.871  121.250   314.2\n",
       "8   17.490  121.644   335.0\n",
       "9   17.426  121.840   324.5\n",
       "10  16.126  121.383   317.0"
      ]
     },
     "execution_count": 79,
     "metadata": {},
     "output_type": "execute_result"
    }
   ],
   "source": [
    "brightness = modis.loc[:10, ['latitude', 'longitude', 'brightness']].rename(columns={'latitude':'lat', 'longitude':'lng', 'brightness':'weight'})\n",
    "brightness"
   ]
  },
  {
   "cell_type": "markdown",
   "metadata": {
    "deletable": true,
    "editable": true
   },
   "source": [
    "chartコマンドのhelpを出して、可視化方法を確認してみます。"
   ]
  },
  {
   "cell_type": "code",
   "execution_count": 80,
   "metadata": {
    "collapsed": false,
    "deletable": true,
    "editable": true
   },
   "outputs": [
    {
     "name": "stdout",
     "output_type": "stream",
     "text": [
      "usage: %%chart [-h]\n",
      "               {annotation,area,bars,bubbles,calendar,candlestick,columns,combo,gauge,geo,heatmap,histogram,line,map,org,paged_table,pie,sankey,scatter,stepped_area,table,timeline,treemap}\n",
      "               ...\n",
      "\n",
      "Generate an inline chart using Google Charts using the data in a Table, Query,\n",
      "dataframe, or list. Numerous types of charts are supported. Options for the\n",
      "charts can be specified in the cell body using YAML or JSON.\n",
      "\n",
      "positional arguments:\n",
      "  {annotation,area,bars,bubbles,calendar,candlestick,columns,combo,gauge,geo,heatmap,histogram,line,map,org,paged_table,pie,sankey,scatter,stepped_area,table,timeline,treemap}\n",
      "                        commands\n",
      "    annotation          Generate a annotation chart.\n",
      "    area                Generate a area chart.\n",
      "    bars                Generate a bars chart.\n",
      "    bubbles             Generate a bubbles chart.\n",
      "    calendar            Generate a calendar chart.\n",
      "    candlestick         Generate a candlestick chart.\n",
      "    columns             Generate a columns chart.\n",
      "    combo               Generate a combo chart.\n",
      "    gauge               Generate a gauge chart.\n",
      "    geo                 Generate a geo chart.\n",
      "    heatmap             Generate a heatmap chart.\n",
      "    histogram           Generate a histogram chart.\n",
      "    line                Generate a line chart.\n",
      "    map                 Generate a map chart.\n",
      "    org                 Generate a org chart.\n",
      "    paged_table         Generate a paged_table chart.\n",
      "    pie                 Generate a pie chart.\n",
      "    sankey              Generate a sankey chart.\n",
      "    scatter             Generate a scatter chart.\n",
      "    stepped_area        Generate a stepped_area chart.\n",
      "    table               Generate a table chart.\n",
      "    timeline            Generate a timeline chart.\n",
      "    treemap             Generate a treemap chart.\n",
      "\n",
      "optional arguments:\n",
      "  -h, --help            show this help message and exit\n",
      "None\n"
     ]
    }
   ],
   "source": [
    "%%chart --help"
   ]
  },
  {
   "cell_type": "markdown",
   "metadata": {
    "deletable": true,
    "editable": true
   },
   "source": [
    "地図上に重ねて情報を表示するのはmapなので、さらにmapのヘルプを確認します。"
   ]
  },
  {
   "cell_type": "code",
   "execution_count": 81,
   "metadata": {
    "collapsed": false,
    "deletable": true,
    "editable": true
   },
   "outputs": [
    {
     "name": "stdout",
     "output_type": "stream",
     "text": [
      "usage: %%chart map [-h] [-f FIELDS] -d DATA\n",
      "\n",
      "Generate a map chart.\n",
      "\n",
      "optional arguments:\n",
      "  -h, --help            show this help message and exit\n",
      "  -f FIELDS, --fields FIELDS\n",
      "                        The field(s) to include in the chart\n",
      "  -d DATA, --data DATA  The name of the variable referencing the Table or\n",
      "                        Query to chart\n",
      "None\n"
     ]
    }
   ],
   "source": [
    "%%chart map -h"
   ]
  },
  {
   "cell_type": "markdown",
   "metadata": {
    "deletable": true,
    "editable": true
   },
   "source": [
    "-fで表示対象のフィールドを、-dで表示するデータの変数名を渡し、さらに本文でJSONまたはYAML形式で設定出来るとの事なので、google map APIを参考にパラメータを渡してみます。"
   ]
  },
  {
   "cell_type": "code",
   "execution_count": 82,
   "metadata": {
    "collapsed": false,
    "deletable": true,
    "editable": true
   },
   "outputs": [
    {
     "data": {
      "text/html": [
       "\n",
       "    <div class=\"bqgc-container\">\n",
       "      \n",
       "      <div class=\"bqgc \" id=\"19_152368472839\">\n",
       "      </div>\n",
       "    </div>\n",
       "    <script src=\"/static/components/requirejs/require.js\"></script>\n",
       "    <script>\n",
       "\n",
       "      require.config({\n",
       "        paths: {\n",
       "          base: '/static/base',\n",
       "          d3: '//cdnjs.cloudflare.com/ajax/libs/d3/3.4.13/d3',\n",
       "          plotly: 'https://cdn.plot.ly/plotly-1.5.1.min.js?noext',\n",
       "          jquery: '//ajax.googleapis.com/ajax/libs/jquery/2.0.0/jquery.min'\n",
       "        },\n",
       "        map: {\n",
       "          '*': {\n",
       "            datalab: 'nbextensions/gcpdatalab'\n",
       "          }\n",
       "        },\n",
       "        shim: {\n",
       "          plotly: {\n",
       "            deps: ['d3', 'jquery'],\n",
       "            exports: 'plotly'\n",
       "          }\n",
       "        }\n",
       "      });\n",
       "\n",
       "      require(['datalab/charting',\n",
       "               'datalab/element!19_152368472839',\n",
       "               'base/js/events',\n",
       "               'datalab/style!/nbextensions/gcpdatalab/charting.css'\n",
       "              ],\n",
       "        function(charts, dom, events) {\n",
       "          charts.render(\n",
       "              'gcharts',\n",
       "              dom,\n",
       "              events,\n",
       "              'map',\n",
       "              [],\n",
       "              {\"rows\": [{\"c\": [{\"v\": 25.061999999999998}, {\"v\": 121.62899999999999}, {\"v\": 321.9}]}, {\"c\": [{\"v\": 24.930999999999997}, {\"v\": 121.167}, {\"v\": 322.1}]}, {\"c\": [{\"v\": 24.191}, {\"v\": 120.815}, {\"v\": 317.9}]}, {\"c\": [{\"v\": 23.963}, {\"v\": 120.97399999999999}, {\"v\": 319.8}]}, {\"c\": [{\"v\": 23.017}, {\"v\": 120.34100000000001}, {\"v\": 316.7}]}, {\"c\": [{\"v\": 23.015}, {\"v\": 120.351}, {\"v\": 323.0}]}, {\"c\": [{\"v\": 22.544}, {\"v\": 120.35799999999999}, {\"v\": 327.2}]}, {\"c\": [{\"v\": 17.871}, {\"v\": 121.25}, {\"v\": 314.2}]}, {\"c\": [{\"v\": 17.49}, {\"v\": 121.64399999999999}, {\"v\": 335.0}]}, {\"c\": [{\"v\": 17.426}, {\"v\": 121.84}, {\"v\": 324.5}]}, {\"c\": [{\"v\": 16.125999999999998}, {\"v\": 121.383}, {\"v\": 317.0}]}], \"cols\": [{\"type\": \"number\", \"id\": \"lat\", \"label\": \"lat\"}, {\"type\": \"number\", \"id\": \"lng\", \"label\": \"lng\"}, {\"type\": \"number\", \"id\": \"weight\", \"label\": \"weight\"}]},\n",
       "              {\"mapType\": \"normal\"},\n",
       "              {\"fields\": \"lat,lng,weight\", \"source_index\": 0, \"name\": 0},\n",
       "              0,\n",
       "              11);\n",
       "          }\n",
       "        );\n",
       "    </script>\n",
       "  "
      ],
      "text/plain": [
       "<IPython.core.display.HTML object>"
      ]
     },
     "execution_count": 82,
     "metadata": {},
     "output_type": "execute_result"
    }
   ],
   "source": [
    "%%chart map -f lat,lng,weight -d brightness\n",
    "mapType: normal"
   ]
  },
  {
   "cell_type": "markdown",
   "metadata": {
    "deletable": true,
    "editable": true
   },
   "source": [
    "でもなぜか出ない。"
   ]
  }
 ],
 "metadata": {
  "kernelspec": {
   "display_name": "Python 3",
   "language": "python",
   "name": "python3"
  },
  "language_info": {
   "codemirror_mode": {
    "name": "ipython",
    "version": 3
   },
   "file_extension": ".py",
   "mimetype": "text/x-python",
   "name": "python",
   "nbconvert_exporter": "python",
   "pygments_lexer": "ipython3",
   "version": "3.5.5"
  }
 },
 "nbformat": 4,
 "nbformat_minor": 2
}
