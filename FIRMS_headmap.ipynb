{
 "cells": [
  {
   "cell_type": "raw",
   "metadata": {
    "deletable": true,
    "editable": true
   },
   "source": []
  },
  {
   "cell_type": "code",
   "execution_count": 2,
   "metadata": {
    "collapsed": false,
    "deletable": true,
    "editable": true
   },
   "outputs": [
    {
     "name": "stdout",
     "output_type": "stream",
     "text": [
      "usage: %%chart [-h]\n",
      "               {annotation,area,bars,bubbles,calendar,candlestick,columns,combo,gauge,geo,heatmap,histogram,line,map,org,paged_table,pie,sankey,scatter,stepped_area,table,timeline,treemap}\n",
      "               ...\n",
      "\n",
      "Generate an inline chart using Google Charts using the data in a Table, Query,\n",
      "dataframe, or list. Numerous types of charts are supported. Options for the\n",
      "charts can be specified in the cell body using YAML or JSON.\n",
      "\n",
      "positional arguments:\n",
      "  {annotation,area,bars,bubbles,calendar,candlestick,columns,combo,gauge,geo,heatmap,histogram,line,map,org,paged_table,pie,sankey,scatter,stepped_area,table,timeline,treemap}\n",
      "                        commands\n",
      "    annotation          Generate a annotation chart.\n",
      "    area                Generate a area chart.\n",
      "    bars                Generate a bars chart.\n",
      "    bubbles             Generate a bubbles chart.\n",
      "    calendar            Generate a calendar chart.\n",
      "    candlestick         Generate a candlestick chart.\n",
      "    columns             Generate a columns chart.\n",
      "    combo               Generate a combo chart.\n",
      "    gauge               Generate a gauge chart.\n",
      "    geo                 Generate a geo chart.\n",
      "    heatmap             Generate a heatmap chart.\n",
      "    histogram           Generate a histogram chart.\n",
      "    line                Generate a line chart.\n",
      "    map                 Generate a map chart.\n",
      "    org                 Generate a org chart.\n",
      "    paged_table         Generate a paged_table chart.\n",
      "    pie                 Generate a pie chart.\n",
      "    sankey              Generate a sankey chart.\n",
      "    scatter             Generate a scatter chart.\n",
      "    stepped_area        Generate a stepped_area chart.\n",
      "    table               Generate a table chart.\n",
      "    timeline            Generate a timeline chart.\n",
      "    treemap             Generate a treemap chart.\n",
      "\n",
      "optional arguments:\n",
      "  -h, --help            show this help message and exit\n",
      "None\n"
     ]
    }
   ],
   "source": [
    "%%chart --help"
   ]
  },
  {
   "cell_type": "code",
   "execution_count": 4,
   "metadata": {
    "collapsed": false,
    "deletable": true,
    "editable": true
   },
   "outputs": [
    {
     "name": "stdout",
     "output_type": "stream",
     "text": [
      "usage: %%chart heatmap [-h] [-f FIELDS] -d DATA\n",
      "\n",
      "Generate a heatmap chart.\n",
      "\n",
      "optional arguments:\n",
      "  -h, --help            show this help message and exit\n",
      "  -f FIELDS, --fields FIELDS\n",
      "                        The field(s) to include in the chart\n",
      "  -d DATA, --data DATA  The name of the variable referencing the Table or\n",
      "                        Query to chart\n",
      "None\n"
     ]
    }
   ],
   "source": [
    "%%chart heatmap -h"
   ]
  },
  {
   "cell_type": "code",
   "execution_count": 8,
   "metadata": {
    "collapsed": false
   },
   "outputs": [
    {
     "data": {
      "text/html": [
       "<div>\n",
       "<style scoped>\n",
       "    .dataframe tbody tr th:only-of-type {\n",
       "        vertical-align: middle;\n",
       "    }\n",
       "\n",
       "    .dataframe tbody tr th {\n",
       "        vertical-align: top;\n",
       "    }\n",
       "\n",
       "    .dataframe thead th {\n",
       "        text-align: right;\n",
       "    }\n",
       "</style>\n",
       "<table border=\"1\" class=\"dataframe\">\n",
       "  <thead>\n",
       "    <tr style=\"text-align: right;\">\n",
       "      <th></th>\n",
       "      <th>latitude</th>\n",
       "      <th>longitude</th>\n",
       "      <th>brightness</th>\n",
       "      <th>scan</th>\n",
       "      <th>track</th>\n",
       "      <th>acq_date</th>\n",
       "      <th>acq_time</th>\n",
       "      <th>satellite</th>\n",
       "      <th>confidence</th>\n",
       "      <th>version</th>\n",
       "      <th>bright_t31</th>\n",
       "      <th>frp</th>\n",
       "      <th>daynight</th>\n",
       "    </tr>\n",
       "  </thead>\n",
       "  <tbody>\n",
       "    <tr>\n",
       "      <th>0</th>\n",
       "      <td>48.169</td>\n",
       "      <td>30.634</td>\n",
       "      <td>308.3</td>\n",
       "      <td>1.9</td>\n",
       "      <td>1.3</td>\n",
       "      <td>2018-04-12</td>\n",
       "      <td>40</td>\n",
       "      <td>A</td>\n",
       "      <td>74</td>\n",
       "      <td>6.0NRT</td>\n",
       "      <td>280.1</td>\n",
       "      <td>29.4</td>\n",
       "      <td>N</td>\n",
       "    </tr>\n",
       "    <tr>\n",
       "      <th>1</th>\n",
       "      <td>48.165</td>\n",
       "      <td>30.627</td>\n",
       "      <td>304.6</td>\n",
       "      <td>1.9</td>\n",
       "      <td>1.3</td>\n",
       "      <td>2018-04-12</td>\n",
       "      <td>40</td>\n",
       "      <td>A</td>\n",
       "      <td>61</td>\n",
       "      <td>6.0NRT</td>\n",
       "      <td>280.6</td>\n",
       "      <td>22.9</td>\n",
       "      <td>N</td>\n",
       "    </tr>\n",
       "    <tr>\n",
       "      <th>2</th>\n",
       "      <td>9.786</td>\n",
       "      <td>125.491</td>\n",
       "      <td>318.3</td>\n",
       "      <td>1.1</td>\n",
       "      <td>1.1</td>\n",
       "      <td>2018-04-12</td>\n",
       "      <td>205</td>\n",
       "      <td>T</td>\n",
       "      <td>0</td>\n",
       "      <td>6.0NRT</td>\n",
       "      <td>301.9</td>\n",
       "      <td>9.3</td>\n",
       "      <td>D</td>\n",
       "    </tr>\n",
       "    <tr>\n",
       "      <th>3</th>\n",
       "      <td>9.987</td>\n",
       "      <td>122.806</td>\n",
       "      <td>323.4</td>\n",
       "      <td>1.7</td>\n",
       "      <td>1.3</td>\n",
       "      <td>2018-04-12</td>\n",
       "      <td>205</td>\n",
       "      <td>T</td>\n",
       "      <td>52</td>\n",
       "      <td>6.0NRT</td>\n",
       "      <td>286.7</td>\n",
       "      <td>25.0</td>\n",
       "      <td>D</td>\n",
       "    </tr>\n",
       "    <tr>\n",
       "      <th>4</th>\n",
       "      <td>49.754</td>\n",
       "      <td>131.869</td>\n",
       "      <td>304.3</td>\n",
       "      <td>1.6</td>\n",
       "      <td>1.2</td>\n",
       "      <td>2018-04-12</td>\n",
       "      <td>155</td>\n",
       "      <td>T</td>\n",
       "      <td>46</td>\n",
       "      <td>6.0NRT</td>\n",
       "      <td>270.1</td>\n",
       "      <td>17.3</td>\n",
       "      <td>D</td>\n",
       "    </tr>\n",
       "  </tbody>\n",
       "</table>\n",
       "</div>"
      ],
      "text/plain": [
       "   latitude  longitude  brightness  scan  track    acq_date  acq_time  \\\n",
       "0    48.169     30.634       308.3   1.9    1.3  2018-04-12        40   \n",
       "1    48.165     30.627       304.6   1.9    1.3  2018-04-12        40   \n",
       "2     9.786    125.491       318.3   1.1    1.1  2018-04-12       205   \n",
       "3     9.987    122.806       323.4   1.7    1.3  2018-04-12       205   \n",
       "4    49.754    131.869       304.3   1.6    1.2  2018-04-12       155   \n",
       "\n",
       "  satellite  confidence version  bright_t31   frp daynight  \n",
       "0         A          74  6.0NRT       280.1  29.4        N  \n",
       "1         A          61  6.0NRT       280.6  22.9        N  \n",
       "2         T           0  6.0NRT       301.9   9.3        D  \n",
       "3         T          52  6.0NRT       286.7  25.0        D  \n",
       "4         T          46  6.0NRT       270.1  17.3        D  "
      ]
     },
     "execution_count": 8,
     "metadata": {},
     "output_type": "execute_result"
    }
   ],
   "source": [
    "import pandas as pd\n",
    "import io\n",
    "import requests\n",
    "\n",
    "url = \"https://firms.modaps.eosdis.nasa.gov/active_fire/c6/text/MODIS_C6_Russia_and_Asia_24h.csv\"\n",
    "modis = pd.read_csv(io.StringIO(requests.get(url).content.decode('utf-8')))\n",
    "\n",
    "modis[:5]"
   ]
  },
  {
   "cell_type": "code",
   "execution_count": null,
   "metadata": {
    "collapsed": true
   },
   "outputs": [],
   "source": []
  }
 ],
 "metadata": {
  "kernelspec": {
   "display_name": "Python 3",
   "language": "python",
   "name": "python3"
  },
  "language_info": {
   "codemirror_mode": {
    "name": "ipython",
    "version": 3
   },
   "file_extension": ".py",
   "mimetype": "text/x-python",
   "name": "python",
   "nbconvert_exporter": "python",
   "pygments_lexer": "ipython3",
   "version": "3.5.5"
  }
 },
 "nbformat": 4,
 "nbformat_minor": 2
}
